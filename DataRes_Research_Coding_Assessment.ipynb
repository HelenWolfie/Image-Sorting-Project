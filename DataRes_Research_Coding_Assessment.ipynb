{
  "cells": [
    {
      "cell_type": "code",
      "execution_count": null,
      "metadata": {
        "colab": {
          "base_uri": "https://localhost:8080/",
          "height": 35
        },
        "id": "sjvfsNTAtbO5",
        "outputId": "f1442ac9-990b-49b0-f480-1f007cf6344e"
      },
      "outputs": [
        {
          "data": {
            "application/vnd.google.colaboratory.intrinsic+json": {
              "type": "string"
            },
            "text/plain": [
              "'I appreciate the work you put into this. This is very good teaching material :)'"
            ]
          },
          "execution_count": 104,
          "metadata": {},
          "output_type": "execute_result"
        }
      ],
      "source": [
        "#@title Your Info { display-mode: \"form\" }\n",
        "\n",
        "Name = 'Helen' #@param {type:\"string\"}\n",
        "\"I appreciate the work you put into this. This is very good teaching material :)\""
      ]
    },
    {
      "cell_type": "markdown",
      "metadata": {
        "id": "n8tKmOactZMi"
      },
      "source": [
        "# DataRes Research Coding Assessment\n",
        "\n",
        "## Due by 11:59pm, April 5\n",
        "\n",
        "Thanks for taking the time to apply to the research team at DataRes! This assessment consists of handful of machine learning exercises that use PyTorch. If you aren't familiar with this library, there's lots of helpful documentation [here](https://pytorch.org/docs/stable/index.html), and **I highly recommend reading it thoroughly if you get stuck** to make sure you're passing correct types/dimensions into the arguments. Lots of code has already been written for you, just make sure to complete sections marked \"TODO:\" or \"Your Implementations\". There are a number of challenging problems to work on, so if you have any questions, please feel free to reach out to [Larry](mailto:larrylu0302@g.ucla.edu) at any time! Lastly, please feel free to submit the assessment even if you can't finish it all, I will take the time to look at every application I recieve.\n",
        "\n",
        "Make sure to submit this completed assessment by 11:59pm, April 5. Submissions will be turned in by emailing this notebook as an .ipynb and the .json with your model's results (more on this below) to me.\n",
        "\n",
        "Good luck!"
      ]
    },
    {
      "cell_type": "markdown",
      "metadata": {
        "id": "AFiKOp8Yz1w7"
      },
      "source": [
        "### Before you begin\n",
        "\n",
        "Here are some things to keep in mind:\n",
        "\n",
        "* Everything should be done using the PyTorch library\n",
        "* Reading documentation can be very helpful if you're stuck\n",
        "* If you're really struggling on a section, send me an email and move on to another one in the meantime\n",
        "* Currently, the trainings are initialized to default epochs. Colab is about half as fast as Kaggle, so depending on which one you're using, you can change the number of epochs so training doesn't take forever (~10 minutes is good)\n",
        "* Sometimes you may get an error about the GPU/CUDA. If this happens, try changing the variables by adding this line: x = x.to('cuda') and restarting"
      ]
    },
    {
      "cell_type": "markdown",
      "metadata": {
        "id": "JKyyP0O8tvbW"
      },
      "source": [
        "### Overview\n",
        "\n",
        "In this assessment, you will be working with the [MiniPlaces dataset](https://github.com/CSAILVision/miniplaces), a dataset of scene images (10+ million images) with a wide variety of real-world environments (400+ unique scene categories). The MiniPlaces dataset is a subset of the [Places2 dataset](http://places2.csail.mit.edu/) and contains 100,000 images for training, 10,000 images for validation, and 10,000 images for testing, each of which has been annotated with one of 100 different scene categories. These images are divided into three folders: train, val, and test.\n",
        "\n",
        "Question 1 will use only some categories of this dataset. We've called this new dataset TinyPlaces. Questions 2-4 will use MiniPlaces (all subcategories).\n",
        "\n",
        "You will be completing machine learning exercises in which you will train models using this dataset. These exercises touch on the following topics:\n",
        "\n",
        "\n",
        "*   Linear, Logistic, and Softmax Regression\n",
        "*   Multi-Layer Perceptrons\n",
        "*   Convolutional Neural Networks (CNNs)\n",
        "\n",
        "Don't worry about having to deal with preprocessing the data... we've already written code to do that for you! Just run the cell below.\n",
        "\n"
      ]
    },
    {
      "cell_type": "code",
      "execution_count": 5,
      "metadata": {
        "_cell_guid": "b1076dfc-b9ad-4769-8c92-a6c4dae69d19",
        "_uuid": "8f2839f25d086af736a60e9eeb907d3b93b6e0e5",
        "colab": {
          "base_uri": "https://localhost:8080/"
        },
        "execution": {
          "iopub.execute_input": "2023-10-07T01:59:18.175960Z",
          "iopub.status.busy": "2023-10-07T01:59:18.175512Z",
          "iopub.status.idle": "2023-10-07T02:00:14.735842Z",
          "shell.execute_reply": "2023-10-07T02:00:14.734469Z",
          "shell.execute_reply.started": "2023-10-07T01:59:18.175923Z"
        },
        "id": "gyAwMa4aS2iP",
        "outputId": "4f8f521b-cafd-4c00-c07d-04ad2a6ee235",
        "trusted": true
      },
      "outputs": [
        {
          "name": "stdout",
          "output_type": "stream",
          "text": [
            "Downloading...\n",
            "From (original): https://drive.google.com/uc?id=1z3B1GR7UtHZGrqNjUaep6thHwrN3IYSI\n",
            "From (redirected): https://drive.google.com/uc?id=1z3B1GR7UtHZGrqNjUaep6thHwrN3IYSI&confirm=t&uuid=2d410acf-859b-45cf-b8d2-a5ce104a875c\n",
            "To: /content/data.tar.gz\n",
            "100% 423M/423M [00:04<00:00, 102MB/s] \n"
          ]
        },
        {
          "name": "stderr",
          "output_type": "stream",
          "text": [
            "Extracting tar.gz file: 100%|██████████| 526M/526M [00:18<00:00, 29.0MB/s]\n"
          ]
        }
      ],
      "source": [
        "import os\n",
        "path = './'\n",
        "os.makedirs(os.path.join(path, 'DataRes_Research_Assessment', 'data'), exist_ok=True)\n",
        "root_dir = os.path.join(path, 'DataRes_Research_Assessment')\n",
        "\n",
        "\n",
        "!pip3 install --upgrade gdown --quiet\n",
        "!gdown 1z3B1GR7UtHZGrqNjUaep6thHwrN3IYSI\n",
        "\n",
        "import tarfile\n",
        "from tqdm import tqdm\n",
        "\n",
        "tar = tarfile.open(\"data.tar.gz\", \"r:gz\")\n",
        "total_size = sum(f.size for f in tar.getmembers())\n",
        "with tqdm(total=total_size, unit=\"B\", unit_scale=True, desc=\"Extracting tar.gz file\") as pbar:\n",
        "    for member in tar.getmembers():\n",
        "        tar.extract(member, os.path.join(root_dir, 'data'))\n",
        "        pbar.update(member.size)\n",
        "tar.close()\n",
        "\n",
        "import urllib.request\n",
        "\n",
        "import os\n",
        "import pickle\n",
        "\n",
        "import numpy as np\n",
        "\n",
        "def load_subcategories(txt_path):\n",
        "    subcategories = {}\n",
        "    file = open(txt_path, 'r')\n",
        "    lines = file.readlines()\n",
        "    for i, l in enumerate(lines):\n",
        "        info = l.split()\n",
        "        info[0] = info[0][3:]\n",
        "        subcategories.update({info[0]: {'ori_class_id': int(info[1]), 'class_id': i}})\n",
        "\n",
        "    return subcategories\n",
        "\n",
        "\n",
        "from tqdm import trange\n",
        "import cv2\n",
        "import random\n",
        "\n",
        "def select_samples(subcategories, root_dir, split, n_images_per_subcategory):\n",
        "    samples = []\n",
        "    if split == \"train\":\n",
        "        train_dir = os.path.join(root_dir, \"data\", \"images\", \"train\")\n",
        "        for i in subcategories:\n",
        "            child_dir = os.path.join(train_dir, i[0], i)\n",
        "            pics = random.sample(os.listdir(child_dir), n_images_per_subcategory)\n",
        "            for j in pics:\n",
        "                samples.append((cv2.resize(cv2.imread(os.path.join(child_dir, j)), (32,32)).flatten().tolist(), subcategories[i][\"class_id\"]))\n",
        "    elif split == \"val\":\n",
        "        val_dir = os.path.join(root_dir, \"data\", \"images\")\n",
        "        file = open(os.path.join(root_dir, \"data\", \"val.txt\"), 'r')\n",
        "        lines = file.readlines()\n",
        "        val_data = []\n",
        "        for i in lines:\n",
        "            val_data.append(i.split())\n",
        "        random.shuffle(val_data)\n",
        "        for i in subcategories:\n",
        "            old_id = subcategories[i][\"ori_class_id\"]\n",
        "            count = 0\n",
        "            for j in val_data:\n",
        "                if int(j[1]) == old_id:\n",
        "                    samples.append((cv2.resize(cv2.imread(os.path.join(val_dir, j[0])), (32,32)).flatten().tolist(), subcategories[i][\"class_id\"]))\n",
        "                    count += 1\n",
        "                if count >= n_images_per_subcategory:\n",
        "                    break\n",
        "    return samples\n",
        "\n",
        "def create_tinyplaces(samples, binary=True):\n",
        "    data, labels = [], []\n",
        "    for i in samples:\n",
        "        data.append(i[0])\n",
        "        if binary:\n",
        "            if i[1] >= 10:\n",
        "                labels.append(1)\n",
        "            else:\n",
        "                labels.append(0)\n",
        "        else:\n",
        "            labels.append(i[1])\n",
        "    data = np.array(data)\n",
        "    labels = np.array(labels)\n",
        "    dataset = {\"data\": data, \"label\": labels}\n",
        "\n",
        "    return dataset\n",
        "\n",
        "\n",
        "# Set the root directory of the dataset\n",
        "root_dir = './DataRes_Research_Assessment/data'\n",
        "\n",
        "# Load the target subcategories and their class IDs\n",
        "subcategories = load_subcategories(os.path.join(root_dir, 'data', 'categories_tinyplaces.txt'))\n",
        "\n",
        "# Select the samples from the train split of the TinyPlaces dataset\n",
        "train_samples = select_samples(subcategories, root_dir, 'train', 500)\n",
        "\n",
        "# Create the TinyPlaces datasets for binary and multiclass classification\n",
        "tinyplaces_binary_train = create_tinyplaces(train_samples, binary=True)\n",
        "tinyplaces_multi_train = create_tinyplaces(train_samples, binary=False)\n",
        "\n",
        "# Select the samples from the val split of the MiniPlaces dataset\n",
        "val_samples = select_samples(subcategories, root_dir, 'val', 50)\n",
        "\n",
        "# Create the TinyPlaces datasets for binary and multiclass classification\n",
        "tinyplaces_binary_val = create_tinyplaces(val_samples, binary=True)\n",
        "tinyplaces_multi_val = create_tinyplaces(val_samples, binary=False)\n",
        "\n",
        "# Save the TinyPlaces datasets to the data directory\n",
        "data_dir = os.path.join(root_dir, 'data')\n",
        "\n",
        "\n",
        "with open(os.path.join(data_dir, 'tinyplaces_binary_train.pkl'), 'wb') as f:\n",
        "    pickle.dump(tinyplaces_binary_train, f)\n",
        "\n",
        "with open(os.path.join(data_dir, 'tinyplaces_multi_train.pkl'), 'wb') as f:\n",
        "    pickle.dump(tinyplaces_multi_train, f)\n",
        "\n",
        "with open(os.path.join(data_dir, 'tinyplaces_binary_val.pkl'), 'wb') as f:\n",
        "    pickle.dump(tinyplaces_binary_val, f)\n",
        "\n",
        "with open(os.path.join(data_dir, 'tinyplaces_multi_val.pkl'), 'wb') as f:\n",
        "    pickle.dump(tinyplaces_multi_val, f)\n",
        "\n",
        "\n",
        "class TinyPlacesDataset(object):\n",
        "    def __init__(self, data_dict):\n",
        "        self.dataset = data_dict\n",
        "        self.num_samples = len(data_dict['data'])\n",
        "\n",
        "    def subsample(self, ratio=0.1, seed=None):\n",
        "        if seed is not None:\n",
        "            np.random.seed(seed)\n",
        "\n",
        "        nums = random.sample(range(self.num_samples), int(ratio * self.num_samples))\n",
        "        sub_dataset = {'data': self.dataset['data'][nums], 'label': self.dataset['label'][nums]}\n",
        "        subsampled_dataset = TinyPlacesDataset(sub_dataset)\n",
        "\n",
        "        return subsampled_dataset"
      ]
    },
    {
      "cell_type": "markdown",
      "metadata": {
        "id": "EGBMfhsBt1VP"
      },
      "source": [
        "## GPU\n",
        "\n",
        "You will train your models using the GPU, which enables parallel processing and is vital for training deep learning models.\n",
        "\n",
        "If you're using Colab, go to:\n",
        "Runtime -> Change Runtime Type -> Hardware Accelerator -> GPU\n",
        "\n",
        "If you're using Kaggle, go to: More Settings (the three dots) -> Accelerator -> GPU P100"
      ]
    },
    {
      "cell_type": "code",
      "execution_count": 6,
      "metadata": {
        "colab": {
          "base_uri": "https://localhost:8080/"
        },
        "execution": {
          "iopub.execute_input": "2023-10-07T02:00:14.739407Z",
          "iopub.status.busy": "2023-10-07T02:00:14.737784Z",
          "iopub.status.idle": "2023-10-07T02:00:14.749555Z",
          "shell.execute_reply": "2023-10-07T02:00:14.747879Z",
          "shell.execute_reply.started": "2023-10-07T02:00:14.739372Z"
        },
        "id": "LOGvGDrFS2iQ",
        "outputId": "ed5c620b-8001-4877-aca5-e50972203771",
        "trusted": true
      },
      "outputs": [
        {
          "name": "stdout",
          "output_type": "stream",
          "text": [
            "Using device: cuda. Good to go!\n"
          ]
        }
      ],
      "source": [
        "import torch\n",
        "\n",
        "device = torch.device('cuda' if torch.cuda.is_available() else 'cpu')\n",
        "\n",
        "if device == torch.device('cuda'):\n",
        "    print(f'Using device: {device}. Good to go!')\n",
        "else:\n",
        "    print('Please set GPU via Edit -> Notebook Settings.')"
      ]
    },
    {
      "cell_type": "code",
      "execution_count": 7,
      "metadata": {
        "colab": {
          "base_uri": "https://localhost:8080/"
        },
        "execution": {
          "iopub.execute_input": "2023-10-07T02:00:14.751617Z",
          "iopub.status.busy": "2023-10-07T02:00:14.751275Z",
          "iopub.status.idle": "2023-10-07T02:00:15.883869Z",
          "shell.execute_reply": "2023-10-07T02:00:15.882719Z",
          "shell.execute_reply.started": "2023-10-07T02:00:14.751586Z"
        },
        "id": "htAi7fg4S2iR",
        "outputId": "59c858ff-ec5f-4f83-8175-cb93701f168e",
        "trusted": true
      },
      "outputs": [
        {
          "name": "stdout",
          "output_type": "stream",
          "text": [
            "Thu Apr  4 03:56:21 2024       \n",
            "+---------------------------------------------------------------------------------------+\n",
            "| NVIDIA-SMI 535.104.05             Driver Version: 535.104.05   CUDA Version: 12.2     |\n",
            "|-----------------------------------------+----------------------+----------------------+\n",
            "| GPU  Name                 Persistence-M | Bus-Id        Disp.A | Volatile Uncorr. ECC |\n",
            "| Fan  Temp   Perf          Pwr:Usage/Cap |         Memory-Usage | GPU-Util  Compute M. |\n",
            "|                                         |                      |               MIG M. |\n",
            "|=========================================+======================+======================|\n",
            "|   0  Tesla T4                       Off | 00000000:00:04.0 Off |                    0 |\n",
            "| N/A   36C    P8              10W /  70W |      3MiB / 15360MiB |      0%      Default |\n",
            "|                                         |                      |                  N/A |\n",
            "+-----------------------------------------+----------------------+----------------------+\n",
            "                                                                                         \n",
            "+---------------------------------------------------------------------------------------+\n",
            "| Processes:                                                                            |\n",
            "|  GPU   GI   CI        PID   Type   Process name                            GPU Memory |\n",
            "|        ID   ID                                                             Usage      |\n",
            "|=======================================================================================|\n",
            "|  No running processes found                                                           |\n",
            "+---------------------------------------------------------------------------------------+\n"
          ]
        }
      ],
      "source": [
        "# This line of code gives you info about GPU\n",
        "! nvidia-smi"
      ]
    },
    {
      "cell_type": "code",
      "execution_count": 8,
      "metadata": {
        "execution": {
          "iopub.execute_input": "2023-10-07T02:00:15.887740Z",
          "iopub.status.busy": "2023-10-07T02:00:15.887129Z",
          "iopub.status.idle": "2023-10-07T02:00:17.057569Z",
          "shell.execute_reply": "2023-10-07T02:00:17.056608Z",
          "shell.execute_reply.started": "2023-10-07T02:00:15.887706Z"
        },
        "id": "-5SQxfd4S2iR",
        "trusted": true
      },
      "outputs": [],
      "source": [
        "with open(os.path.join(root_dir, 'data', 'tinyplaces_binary_train.pkl'), 'rb') as f:\n",
        "    binary_train = TinyPlacesDataset(pickle.load(f))\n",
        "with open(os.path.join(root_dir, 'data', 'tinyplaces_binary_val.pkl'), 'rb') as f:\n",
        "    binary_val = TinyPlacesDataset(pickle.load(f))\n",
        "with open(os.path.join(root_dir, 'data', 'tinyplaces_multi_train.pkl'), 'rb') as f:\n",
        "    multi_train = TinyPlacesDataset(pickle.load(f))\n",
        "with open(os.path.join(root_dir, 'data', 'tinyplaces_multi_val.pkl'), 'rb') as f:\n",
        "    multi_val = TinyPlacesDataset(pickle.load(f))\n",
        "\n",
        "# Convert everything from numpy arrays to tensors and move them to the GPU using .cuda()\n",
        "for dataset in [binary_train, binary_val, multi_train, multi_val]:\n",
        "    for k in ['data', 'label']:\n",
        "        dataset.dataset[k] = torch.tensor(dataset.dataset[k]).float().cuda()"
      ]
    },
    {
      "cell_type": "code",
      "execution_count": 9,
      "metadata": {
        "execution": {
          "iopub.execute_input": "2023-10-07T02:00:17.059627Z",
          "iopub.status.busy": "2023-10-07T02:00:17.059039Z",
          "iopub.status.idle": "2023-10-07T02:00:17.064493Z",
          "shell.execute_reply": "2023-10-07T02:00:17.063250Z",
          "shell.execute_reply.started": "2023-10-07T02:00:17.059593Z"
        },
        "id": "oNfvvZQZS2iR",
        "trusted": true
      },
      "outputs": [],
      "source": [
        "from tqdm import tqdm"
      ]
    },
    {
      "cell_type": "markdown",
      "metadata": {
        "id": "J2m2FeWIubFA"
      },
      "source": [
        "## Q1 Regressions"
      ]
    },
    {
      "cell_type": "markdown",
      "metadata": {
        "id": "uHWtYYNxubsA"
      },
      "source": [
        "### Linear Regression\n",
        "\n",
        "Below, you will implement linear regression. You'll need to use PyTorch to initialize the parameters and implement the linear function and mean squared error.\n",
        "\n",
        "If the prediction score > 0.5, we consider the image to be of outdoor category. Otherwise, we consider it to be indoor category."
      ]
    },
    {
      "cell_type": "code",
      "execution_count": null,
      "metadata": {
        "execution": {
          "iopub.execute_input": "2023-10-07T02:00:17.066747Z",
          "iopub.status.busy": "2023-10-07T02:00:17.066112Z",
          "iopub.status.idle": "2023-10-07T02:00:17.084621Z",
          "shell.execute_reply": "2023-10-07T02:00:17.083569Z",
          "shell.execute_reply.started": "2023-10-07T02:00:17.066716Z"
        },
        "id": "FmoaFZKIS2iR",
        "trusted": true
      },
      "outputs": [],
      "source": [
        "class LinearRegression(object):\n",
        "    def __init__(self, input_size, output_size):\n",
        "        \"\"\"\n",
        "          Initialize the weights and biases using zeros distribution\n",
        "\n",
        "          Parameters:\n",
        "              input_size (int): The input size (dimension of feature vectors)\n",
        "              output_size (int): The output size (dimension of output logits)\n",
        "\n",
        "          Returns:\n",
        "              None.\n",
        "        \"\"\"\n",
        "        # Initialize the weights and biases using zeros\n",
        "        # Make sure your tensors keep track of their gradient\n",
        "        # Move the parameters to GPU (cuda)\n",
        "        ################# Your Implementations #################################\n",
        "\n",
        "        self.W = torch.zeros(input_size, output_size, requires_grad=True, dtype=torch.double)\n",
        "        self.b = torch.zeros(output_size, requires_grad=True, dtype=torch.double)\n",
        "\n",
        "        if torch.cuda.is_available():\n",
        "            self.W = self.W.cuda()\n",
        "            self.b = self.b.cuda()\n",
        "\n",
        "        self.W.retain_grad()\n",
        "        self.b.retain_grad()\n",
        "\n",
        "\n",
        "        ################# End of your Implementations ##########################\n",
        "\n",
        "    def linear(self, x):\n",
        "        ################# Your Implementations #################################\n",
        "        if torch.cuda.is_available(): #put in GPU\n",
        "            x = x.cuda()\n",
        "\n",
        "        output = torch.mm(x, self.W) + self.b\n",
        "\n",
        "        ################# End of your Implementations ##########################\n",
        "        return output\n",
        "\n",
        "    def forward(self, x):\n",
        "        # To make the output shape compact.\n",
        "        return self.linear(x).squeeze()\n",
        "\n",
        "    def get_loss(self, pred_logits, targets):\n",
        "        # Calculate the mean squared error between the predicted labels and the ground-truth labels\n",
        "        ################# Your Implementations #################################\n",
        "        if pred_logits.is_cuda:\n",
        "          targets = targets.cuda()\n",
        "\n",
        "        loss = torch.mean((pred_logits - targets) ** 2) #MSE Loss\n",
        "\n",
        "        ################# End of your Implementations ##########################\n",
        "        return loss\n",
        "\n",
        "    def fit(self, x, y, x_val, y_val, lr, epochs=500000, print_freq=1000):\n",
        "        # Fit the linear regression model to the training data using gradient descent\n",
        "        # x is the input data, y is the ground-truth labels\n",
        "        # lr is the learning rate, epochs is the number of epochs\n",
        "\n",
        "        # To store validation accuracy\n",
        "        val_accs = []\n",
        "        # Create a progress bar using tqdm\n",
        "        pbar = tqdm(range(epochs))\n",
        "        for epoch in pbar:\n",
        "            # Calculate the loss\n",
        "            y_pred_logits = self.forward(x)\n",
        "            loss = self.get_loss(y_pred_logits, y)\n",
        "            # Backpropagate the loss to compute the gradients\n",
        "            loss.backward()\n",
        "            # Update the weights and biases using gradient descent\n",
        "            with torch.no_grad():\n",
        "                self.W -= lr * self.W.grad\n",
        "                self.b -= lr * self.b.grad\n",
        "                # Reset the gradients\n",
        "                self.W.grad.zero_()\n",
        "                self.b.grad.zero_()\n",
        "\n",
        "            if epoch % print_freq == 0:\n",
        "                # Calculate the validation accuracy\n",
        "                val_acc = self.evaluate(x_val, y_val)\n",
        "                val_accs.append(val_acc)\n",
        "                # Update the progress bar with the validation accuracy and training loss\n",
        "                pbar.set_description(f'val_acc: {val_acc:.3f}')\n",
        "        return val_accs\n",
        "\n",
        "    def evaluate(self, x, y):\n",
        "        # Evaluate the performance of the linear regression model on the dataset\n",
        "        # x is the input data, y is the ground-truth labels\n",
        "        # Calculate the predicted labels\n",
        "        y_pred = self.forward(x) > 0.5\n",
        "        return (y_pred == y).float().mean().item()"
      ]
    },
    {
      "cell_type": "code",
      "execution_count": null,
      "metadata": {
        "execution": {
          "iopub.execute_input": "2023-10-07T02:00:17.087316Z",
          "iopub.status.busy": "2023-10-07T02:00:17.086140Z",
          "iopub.status.idle": "2023-10-07T02:00:17.099650Z",
          "shell.execute_reply": "2023-10-07T02:00:17.098688Z",
          "shell.execute_reply.started": "2023-10-07T02:00:17.087283Z"
        },
        "id": "Mizc7tkcS2iR",
        "trusted": true
      },
      "outputs": [],
      "source": [
        "def normalize(x):\n",
        "    # We can simply divide x by 255 since its range is (0,255)\n",
        "    return x / 255."
      ]
    },
    {
      "cell_type": "code",
      "execution_count": null,
      "metadata": {
        "execution": {
          "iopub.execute_input": "2023-10-07T02:00:17.101719Z",
          "iopub.status.busy": "2023-10-07T02:00:17.101135Z",
          "iopub.status.idle": "2023-10-07T02:00:17.112242Z",
          "shell.execute_reply": "2023-10-07T02:00:17.111324Z",
          "shell.execute_reply.started": "2023-10-07T02:00:17.101685Z"
        },
        "id": "1G_UZ_zwS2iR",
        "trusted": true
      },
      "outputs": [],
      "source": [
        "# Here \"ori\" indicates \"original\"\n",
        "X_train_ori, y_train = binary_train.dataset['data'], binary_train.dataset['label']\n",
        "X_val_ori, y_val = binary_val.dataset['data'], binary_val.dataset['label']\n",
        "\n",
        "# Normalization\n",
        "X_train = normalize(X_train_ori)\n",
        "X_val = normalize(X_val_ori)"
      ]
    },
    {
      "cell_type": "markdown",
      "metadata": {
        "id": "pW0B-W58uilG"
      },
      "source": [
        "Use the next 3 cells to debug. The next cell should give an accuracy of 0.5 since we're using zeros-initialization."
      ]
    },
    {
      "cell_type": "code",
      "execution_count": null,
      "metadata": {
        "colab": {
          "base_uri": "https://localhost:8080/"
        },
        "execution": {
          "iopub.execute_input": "2023-10-07T02:00:17.114789Z",
          "iopub.status.busy": "2023-10-07T02:00:17.113594Z",
          "iopub.status.idle": "2023-10-07T02:00:17.126758Z",
          "shell.execute_reply": "2023-10-07T02:00:17.125666Z",
          "shell.execute_reply.started": "2023-10-07T02:00:17.114755Z"
        },
        "id": "J_l1H9tYS2iS",
        "outputId": "4a7512de-7d5d-4d44-8f9e-02d93018eb95",
        "trusted": true
      },
      "outputs": [
        {
          "name": "stdout",
          "output_type": "stream",
          "text": [
            "train accuracy: 0.5\n",
            "val accuracy: 0.5\n"
          ]
        }
      ],
      "source": [
        "linear_model = LinearRegression(3072, 1)\n",
        "train_acc = linear_model.evaluate(X_train.double(), y_train)\n",
        "val_acc = linear_model.evaluate(X_val.double(), y_val)\n",
        "print('train accuracy:', train_acc)\n",
        "print('val accuracy:', val_acc)"
      ]
    },
    {
      "cell_type": "code",
      "execution_count": null,
      "metadata": {
        "colab": {
          "base_uri": "https://localhost:8080/"
        },
        "execution": {
          "iopub.execute_input": "2023-10-07T02:00:17.131253Z",
          "iopub.status.busy": "2023-10-07T02:00:17.130992Z",
          "iopub.status.idle": "2023-10-07T02:00:17.138773Z",
          "shell.execute_reply": "2023-10-07T02:00:17.137551Z",
          "shell.execute_reply.started": "2023-10-07T02:00:17.131230Z"
        },
        "id": "BsgSuKsoS2iS",
        "outputId": "2d30c6c5-b452-446b-e5e5-1cdeff56a394",
        "trusted": true
      },
      "outputs": [
        {
          "name": "stdout",
          "output_type": "stream",
          "text": [
            "loss: 0.5\n"
          ]
        }
      ],
      "source": [
        "# Try to debug using this cell\n",
        "linear_model = LinearRegression(3072, 1)\n",
        "# We refer the raw outputs from a model to as \"logits\",\n",
        "# i.e., we haven't transformed the results to binary labels.\n",
        "y_pred_logits = linear_model.forward(X_train.double())\n",
        "loss = linear_model.get_loss(y_pred_logits, y_train)\n",
        "print(\"loss:\", loss.item())"
      ]
    },
    {
      "cell_type": "code",
      "execution_count": null,
      "metadata": {
        "colab": {
          "base_uri": "https://localhost:8080/"
        },
        "execution": {
          "iopub.execute_input": "2023-10-07T02:00:17.141045Z",
          "iopub.status.busy": "2023-10-07T02:00:17.140225Z",
          "iopub.status.idle": "2023-10-07T02:00:17.155942Z",
          "shell.execute_reply": "2023-10-07T02:00:17.155040Z",
          "shell.execute_reply.started": "2023-10-07T02:00:17.141012Z"
        },
        "id": "GIOgOnd5S2iS",
        "outputId": "34921d2f-a735-4876-d99d-b4ac3516c8bb",
        "trusted": true
      },
      "outputs": [
        {
          "name": "stdout",
          "output_type": "stream",
          "text": [
            "tensor([[-0.5362],\n",
            "        [-0.5093],\n",
            "        [-0.4613],\n",
            "        ...,\n",
            "        [-0.3009],\n",
            "        [-0.3531],\n",
            "        [-0.3623]], device='cuda:0', dtype=torch.float64)\n",
            "tensor([-1.0000], device='cuda:0', dtype=torch.float64)\n"
          ]
        }
      ],
      "source": [
        "# compute gradients\n",
        "loss.backward()\n",
        "\n",
        "# check the gradients\n",
        "print(linear_model.W.grad)\n",
        "print(linear_model.b.grad)"
      ]
    },
    {
      "cell_type": "markdown",
      "metadata": {
        "id": "cUFTLarxulrd"
      },
      "source": [
        "Great, you've fully implemented the linear regression model! Let's train it."
      ]
    },
    {
      "cell_type": "code",
      "execution_count": null,
      "metadata": {
        "colab": {
          "base_uri": "https://localhost:8080/"
        },
        "execution": {
          "iopub.execute_input": "2023-10-07T02:00:17.157929Z",
          "iopub.status.busy": "2023-10-07T02:00:17.157393Z",
          "iopub.status.idle": "2023-10-07T02:10:28.302720Z",
          "shell.execute_reply": "2023-10-07T02:10:28.301836Z",
          "shell.execute_reply.started": "2023-10-07T02:00:17.157898Z"
        },
        "id": "W3VjCJZuS2iS",
        "outputId": "2970564f-c48d-45f6-feae-3c4251c29a91",
        "trusted": true
      },
      "outputs": [
        {
          "name": "stderr",
          "output_type": "stream",
          "text": [
            "val_acc: 0.794: 100%|██████████| 200000/200000 [08:42<00:00, 382.75it/s]\n"
          ]
        }
      ],
      "source": [
        "linear_model = LinearRegression(3072, 1)\n",
        "# It may be helpful to change the number of epochs to a very small number while debugging\n",
        "# For your final submission, you can change the epochs so that training doesn't take forever (~10 minutes is good)\n",
        "lin_val_accs = linear_model.fit(X_train.double().cuda(), y_train, X_val.double().cuda(), y_val, 1e-4, 200000, 1000)"
      ]
    },
    {
      "cell_type": "code",
      "execution_count": null,
      "metadata": {
        "colab": {
          "base_uri": "https://localhost:8080/"
        },
        "id": "3UdBYVmytB5C",
        "outputId": "c16f676b-7e14-44a0-80a7-32fadcb922ec"
      },
      "outputs": [
        {
          "name": "stdout",
          "output_type": "stream",
          "text": [
            "train accuracy: 0.8190000057220459\n",
            "val accuracy: 0.7930000424385071\n"
          ]
        }
      ],
      "source": [
        "train_acc = linear_model.evaluate(X_train.double(), y_train)\n",
        "val_acc = linear_model.evaluate(X_val.double(), y_val)\n",
        "print('train accuracy:', train_acc)\n",
        "print('val accuracy:', val_acc)"
      ]
    },
    {
      "cell_type": "markdown",
      "metadata": {
        "id": "0-Ax-AdvuqKT"
      },
      "source": [
        "### Logistic Regression\n",
        "\n",
        "Logistic regression is very similar to linear regression, but the sigmoid function is added to the forward pass and cross-entropy is used for loss. Here's the formulas:\n",
        "\n",
        "Sigmoid:\n",
        "\n",
        "$$\\frac{1}{1+e^{-x}}$$\n",
        "\n",
        "Cross-Entropy Loss:\n",
        "\n",
        "$$\\mathrm{CE_Loss}(p, y) = -{(y\\log(p) + (1-y)\\log(1-p))}$$\n",
        "\n",
        "Implement them below!"
      ]
    },
    {
      "cell_type": "code",
      "execution_count": null,
      "metadata": {
        "execution": {
          "iopub.execute_input": "2023-10-07T02:10:28.304706Z",
          "iopub.status.busy": "2023-10-07T02:10:28.304155Z",
          "iopub.status.idle": "2023-10-07T02:10:28.310498Z",
          "shell.execute_reply": "2023-10-07T02:10:28.309671Z",
          "shell.execute_reply.started": "2023-10-07T02:10:28.304673Z"
        },
        "id": "GfIt43g3S2iS",
        "trusted": true
      },
      "outputs": [],
      "source": [
        "def sigmoid(x):\n",
        "    ################# Your Implementations #################################\n",
        "\n",
        "    output = 1 / (1 + torch.exp(-x))\n",
        "\n",
        "    ################# End of your Implementations ##########################\n",
        "    return output\n",
        "\n",
        "\n",
        "def cross_entropy_loss(p, y):\n",
        "    ################# Your Implementations #################################\n",
        "\n",
        "    output = -(y * torch.log(p) + (1 - y) * torch.log(1 - p))\n",
        "\n",
        "    ################# End of your Implementations ##########################\n",
        "    return output.mean()"
      ]
    },
    {
      "cell_type": "markdown",
      "metadata": {
        "id": "JLA5YsCIusxo"
      },
      "source": [
        "Use these implementations below to implement the Logistic Regression model."
      ]
    },
    {
      "cell_type": "code",
      "execution_count": null,
      "metadata": {
        "execution": {
          "iopub.execute_input": "2023-10-07T02:10:28.312991Z",
          "iopub.status.busy": "2023-10-07T02:10:28.311938Z",
          "iopub.status.idle": "2023-10-07T02:10:28.323365Z",
          "shell.execute_reply": "2023-10-07T02:10:28.322530Z",
          "shell.execute_reply.started": "2023-10-07T02:10:28.312934Z"
        },
        "id": "Wzjx1WhRS2iS",
        "trusted": true
      },
      "outputs": [],
      "source": [
        "class LogisticRegression(LinearRegression):\n",
        "    def __init__(self, input_size, output_size):\n",
        "        super(LogisticRegression, self).__init__(input_size, output_size)\n",
        "\n",
        "    def forward(self, x):\n",
        "        # Apply the sigmoid function to the linear output\n",
        "        ################# Your Implementations #################################\n",
        "\n",
        "        output = LinearRegression.forward(self, x)\n",
        "        output = sigmoid(output)\n",
        "\n",
        "        ################# End of your Implementations ##########################\n",
        "        return output\n",
        "\n",
        "    def get_loss(self, pred_logits, targets):\n",
        "        # Calculate the cross-entropy loss\n",
        "        ################# Your Implementations #################################\n",
        "\n",
        "        loss = cross_entropy_loss(pred_logits, targets)\n",
        "\n",
        "        ################# End of your Implementations ##########################\n",
        "        return loss"
      ]
    },
    {
      "cell_type": "markdown",
      "metadata": {
        "id": "nmTKJwhouusX"
      },
      "source": [
        "Train!"
      ]
    },
    {
      "cell_type": "code",
      "execution_count": null,
      "metadata": {
        "colab": {
          "base_uri": "https://localhost:8080/"
        },
        "execution": {
          "iopub.execute_input": "2023-10-07T02:10:28.324993Z",
          "iopub.status.busy": "2023-10-07T02:10:28.324510Z",
          "iopub.status.idle": "2023-10-07T02:20:41.868366Z",
          "shell.execute_reply": "2023-10-07T02:20:41.867393Z",
          "shell.execute_reply.started": "2023-10-07T02:10:28.324964Z"
        },
        "id": "VAVLfWMgS2iS",
        "outputId": "73c28027-6b50-4418-fb7c-eead66ff285f",
        "trusted": true
      },
      "outputs": [
        {
          "name": "stderr",
          "output_type": "stream",
          "text": [
            "val_acc: 0.825: 100%|██████████| 200000/200000 [08:38<00:00, 385.60it/s]\n"
          ]
        }
      ],
      "source": [
        "logistic_model = LogisticRegression(3072, 1)\n",
        "# Again, you can change the epochs so that training doesn't take forever (~10 minutes is good)\n",
        "logi_val_accs = logistic_model.fit(X_train.double(), y_train, X_val.double(), y_val, 1e-4, 200000, 1000)"
      ]
    },
    {
      "cell_type": "markdown",
      "metadata": {
        "id": "-aXCtUYtuw3_"
      },
      "source": [
        "Plot the validation accuracies of both models. Logistic Regression should be more accurate."
      ]
    },
    {
      "cell_type": "code",
      "execution_count": null,
      "metadata": {
        "colab": {
          "base_uri": "https://localhost:8080/",
          "height": 449
        },
        "execution": {
          "iopub.execute_input": "2023-10-07T02:20:41.870452Z",
          "iopub.status.busy": "2023-10-07T02:20:41.869823Z",
          "iopub.status.idle": "2023-10-07T02:20:42.112235Z",
          "shell.execute_reply": "2023-10-07T02:20:42.111301Z",
          "shell.execute_reply.started": "2023-10-07T02:20:41.870406Z"
        },
        "id": "vW1a48IqS2iT",
        "outputId": "fe274dcc-bf12-4a5f-dd9b-f528ba3b4bb0",
        "trusted": true
      },
      "outputs": [
        {
          "data": {
            "image/png": "[encoded data removed]",
            "text/plain": [
              "<Figure size 640x480 with 1 Axes>"
            ]
          },
          "metadata": {},
          "output_type": "display_data"
        }
      ],
      "source": [
        "import matplotlib.pyplot as plt\n",
        "\n",
        "plt.plot(lin_val_accs, label='LinearRegression')\n",
        "plt.plot(logi_val_accs, label='LogisticRegression')\n",
        "plt.legend()\n",
        "plt.xlabel('Iteration')\n",
        "plt.ylabel('Validation Accuracy (%)')\n",
        "plt.show()"
      ]
    },
    {
      "cell_type": "markdown",
      "metadata": {
        "id": "OdxpWU9iu0UV"
      },
      "source": [
        "### Softmax Regression\n",
        "\n",
        "Softmax regression is similar to logistic regression except it uses the softmax function instead of sigmoid and uses negative log likelihood for the loss. Here's the formulas:\n",
        "\n",
        "Softmax:\n",
        "\n",
        "$$\\frac{e^{z_{i}}}{\\sum_{j=1}^K e^{z_{j}}} \\ \\ \\ for\\ i=1,2,\\dots,K$$\n",
        "\n",
        "where z is the output of the linear model, and K is the number of classes.\n",
        "\n",
        "Negative Log Likelihood:\n",
        "\n",
        "$$-{\\log(p(y))}$$\n",
        "\n",
        "where p(y) is the predicted probability of the data point belonging to the true class y.\n",
        "\n",
        "Implement them below!"
      ]
    },
    {
      "cell_type": "code",
      "execution_count": null,
      "metadata": {
        "execution": {
          "iopub.execute_input": "2023-10-07T02:20:42.114271Z",
          "iopub.status.busy": "2023-10-07T02:20:42.113454Z",
          "iopub.status.idle": "2023-10-07T02:20:42.122410Z",
          "shell.execute_reply": "2023-10-07T02:20:42.121295Z",
          "shell.execute_reply.started": "2023-10-07T02:20:42.114239Z"
        },
        "id": "mUqySvfdS2iT",
        "trusted": true
      },
      "outputs": [],
      "source": [
        "import torch.nn.functional as F\n",
        "def softmax(x):\n",
        "    # Implement the softmax function\n",
        "    # x is the input data with shape (batch_size, input_size)\n",
        "    # Return the softmax output with shape (batch_size, output_size)\n",
        "    ################# Your Implementations #################################\n",
        "\n",
        "    x_exp_shifted = torch.exp(x)\n",
        "    output = x_exp_shifted / x_exp_shifted.sum(dim=1, keepdim=True)\n",
        "\n",
        "    ################# End of your Implementations ##########################\n",
        "    return output\n",
        "\n",
        "def nll_loss(pred_probs, targets):\n",
        "    # Calculate the negative log likelihood loss\n",
        "    # pred_probs is the predicted probability distribution with shape (batch_size, output_size)\n",
        "    # targets is the ground-truth labels with shape (batch_size,)\n",
        "    # Return the negative log likelihood loss with shape (batch_size,)\n",
        "\n",
        "    # There are actually two functions for negative log likelihood loss: torch.nn.NLLLoss and torch.nn.functional.nll_loss\n",
        "    # You can convert the ground-truth labels to one-hot encoding using torch.eye() and pass to NLLLoss\n",
        "    # Alternatively, try converting targets to type LongTensor and passing that to functional.nll_loss\n",
        "    ################# Your Implementations #################################\n",
        "\n",
        "    log_pred_probs = torch.log(pred_probs)\n",
        "\n",
        "    targets = targets.long()\n",
        "\n",
        "    loss = F.nll_loss(log_pred_probs, targets)\n",
        "\n",
        "    ################# End of your Implementations ##########################\n",
        "    return loss"
      ]
    },
    {
      "cell_type": "markdown",
      "metadata": {
        "id": "En2_dN61u4GY"
      },
      "source": [
        "Use these implementations below to implement the Softmax Regression model."
      ]
    },
    {
      "cell_type": "code",
      "execution_count": null,
      "metadata": {
        "execution": {
          "iopub.execute_input": "2023-10-07T02:20:42.124278Z",
          "iopub.status.busy": "2023-10-07T02:20:42.123678Z",
          "iopub.status.idle": "2023-10-07T02:20:42.137001Z",
          "shell.execute_reply": "2023-10-07T02:20:42.136301Z",
          "shell.execute_reply.started": "2023-10-07T02:20:42.124245Z"
        },
        "id": "jNNKg5S2S2iT",
        "trusted": true
      },
      "outputs": [],
      "source": [
        "class SoftmaxRegression(LinearRegression):\n",
        "    def __init__(self, input_size, output_size):\n",
        "        super(SoftmaxRegression, self).__init__(input_size, output_size)\n",
        "\n",
        "    def forward(self, x):\n",
        "        # Apply the softmax function to the linear output\n",
        "        ################# Your Implementations #################################\n",
        "\n",
        "        output = LinearRegression.forward(self, x)\n",
        "        output = softmax(output)\n",
        "\n",
        "\n",
        "        ################# End of your Implementations ##########################\n",
        "        return output\n",
        "\n",
        "    def get_loss(self, pred_logits, targets):\n",
        "        # Calculate the cross-entropy loss\n",
        "        ################# Your Implementations #################################\n",
        "\n",
        "        loss = nll_loss(pred_logits, targets)\n",
        "\n",
        "        ################# End of your Implementations ##########################\n",
        "        return loss\n",
        "\n",
        "    def evaluate(self, x, y):\n",
        "        # Evaluate the performance of the linear regression model on the dataset\n",
        "        # x is the input data, y is the ground-truth labels\n",
        "        # Calculate the predicted labels\n",
        "        y_pred = self.forward(x)\n",
        "        y_pred = y_pred.argmax(dim=1) #changed from dim=0 to dim=1\n",
        "        return (y_pred == y).float().mean().item()\n"
      ]
    },
    {
      "cell_type": "code",
      "execution_count": null,
      "metadata": {
        "execution": {
          "iopub.execute_input": "2023-10-07T02:20:42.138794Z",
          "iopub.status.busy": "2023-10-07T02:20:42.137943Z",
          "iopub.status.idle": "2023-10-07T02:20:42.156256Z",
          "shell.execute_reply": "2023-10-07T02:20:42.155352Z",
          "shell.execute_reply.started": "2023-10-07T02:20:42.138765Z"
        },
        "id": "epejCR31S2iT",
        "trusted": true
      },
      "outputs": [],
      "source": [
        "# Prepare multi-class dataset\n",
        "# Here \"ori\" indicates \"original\"\n",
        "X_train_ori_multi, y_train_multi = multi_train.dataset['data'], multi_train.dataset['label']\n",
        "X_val_ori_multi, y_val_multi = multi_val.dataset['data'], multi_val.dataset['label']\n",
        "\n",
        "# Normalization\n",
        "X_train_multi = normalize(X_train_ori_multi)\n",
        "X_val_multi = normalize(X_val_ori_multi)"
      ]
    },
    {
      "cell_type": "markdown",
      "metadata": {
        "id": "dE3jGM_zu6OG"
      },
      "source": [
        "Train! Don't worry if your accuracy is low, that's expected."
      ]
    },
    {
      "cell_type": "code",
      "execution_count": null,
      "metadata": {
        "colab": {
          "base_uri": "https://localhost:8080/"
        },
        "execution": {
          "iopub.execute_input": "2023-10-07T02:20:42.158507Z",
          "iopub.status.busy": "2023-10-07T02:20:42.157548Z",
          "iopub.status.idle": "2023-10-07T02:25:01.355554Z",
          "shell.execute_reply": "2023-10-07T02:25:01.354548Z",
          "shell.execute_reply.started": "2023-10-07T02:20:42.158476Z"
        },
        "id": "350le3gES2iT",
        "outputId": "3473b00e-f05a-4d46-964e-d40755f73763",
        "trusted": true
      },
      "outputs": [
        {
          "name": "stderr",
          "output_type": "stream",
          "text": [
            "val_acc: 0.089: 100%|██████████| 1000/1000 [00:37<00:00, 26.56it/s]\n"
          ]
        }
      ],
      "source": [
        "sfm_model = SoftmaxRegression(3072, 20)\n",
        "# You can change the epochs accordingly here as well\n",
        "sfm_val_accs = sfm_model.fit(X_train_multi.double(), y_train_multi, X_val_multi.double(), y_val_multi, 1e-4, 1000, 100)"
      ]
    },
    {
      "cell_type": "code",
      "execution_count": null,
      "metadata": {
        "colab": {
          "base_uri": "https://localhost:8080/"
        },
        "id": "PUNa2HN45Wmz",
        "outputId": "66da31e7-fe03-47bf-dc20-8f4a9492b410"
      },
      "outputs": [
        {
          "data": {
            "text/plain": [
              "[0.07400000095367432,\n",
              " 0.07600000500679016,\n",
              " 0.07600000500679016,\n",
              " 0.07900000363588333,\n",
              " 0.08100000023841858,\n",
              " 0.08100000023841858,\n",
              " 0.08400000631809235,\n",
              " 0.08500000089406967,\n",
              " 0.08400000631809235,\n",
              " 0.08900000154972076]"
            ]
          },
          "execution_count": 93,
          "metadata": {},
          "output_type": "execute_result"
        }
      ],
      "source": [
        "sfm_val_accs"
      ]
    },
    {
      "cell_type": "markdown",
      "metadata": {
        "id": "lR7YpMFwS2iT"
      },
      "source": [
        "### Comparison\n",
        "\n",
        "In your own words, explain the differences between Linear Regression, Logistic Regression and Softmax Regression:"
      ]
    },
    {
      "cell_type": "markdown",
      "metadata": {
        "id": "KZAMBiB3u_1n"
      },
      "source": [
        "Here, we are applying different activation functions to the linear regression. The different activation function serves different goals.\n",
        "+ Linear regression: predict continuous output\n",
        "+ Logistic regression: predict binary classification task\n",
        "+ Softmax regression: extension of logistic regression, where an observation can belong to multple classes"
      ]
    },
    {
      "cell_type": "markdown",
      "metadata": {
        "id": "6belwxbTvGFP"
      },
      "source": [
        "## Q2: Multi-Layer Perceptron (MLP)\n",
        "\n",
        "Now, we'll be using MiniPlaces, so there will be 100 different labels (instead of 20).\n",
        "\n",
        "You will use PyTorch to implement linear layers and ReLu to create a multi-layer perceptron."
      ]
    },
    {
      "cell_type": "code",
      "execution_count": 10,
      "metadata": {
        "execution": {
          "iopub.execute_input": "2023-10-07T02:25:01.357760Z",
          "iopub.status.busy": "2023-10-07T02:25:01.357137Z",
          "iopub.status.idle": "2023-10-07T02:25:01.848591Z",
          "shell.execute_reply": "2023-10-07T02:25:01.847682Z",
          "shell.execute_reply.started": "2023-10-07T02:25:01.357727Z"
        },
        "id": "6hCbbEp9S2iU",
        "trusted": true
      },
      "outputs": [],
      "source": [
        "from torch.utils.data import Dataset\n",
        "from PIL import Image\n",
        "\n",
        "class MiniPlaces(Dataset):\n",
        "    def __init__(self, root_dir, split, transform=None, label_dict=None):\n",
        "        assert split in ['train', 'val', 'test']\n",
        "        self.root_dir = root_dir\n",
        "        self.split = split\n",
        "        self.transform = transform\n",
        "        self.filenames = []\n",
        "        self.labels = []\n",
        "        self.label_dict = label_dict if label_dict is not None else {}\n",
        "        if split == \"train\" or split == \"val\":\n",
        "            with open(os.path.join(root_dir, (\"train\" if self.split == \"train\" else \"val\") + \".txt\")) as f:\n",
        "                for line in f:\n",
        "                    line = line.rstrip().split()\n",
        "                    n = int(line[0][-12:-4])\n",
        "                    if n <= 900:\n",
        "                        self.filenames.append(os.path.join(line[0]))\n",
        "                        self.labels.append(int(line[1]))\n",
        "        if label_dict is None and split == \"train\":\n",
        "            with open(os.path.join(root_dir, \"train.txt\")) as f:\n",
        "                num = -1\n",
        "                for line in f:\n",
        "                    line = line.rstrip().split()\n",
        "                    if int(line[1]) > num:\n",
        "                        num += 1\n",
        "                        self.label_dict.update({int(line[1]): line[0][8:line[0].find(\"/\", 8)]})\n",
        "        if split == \"test\":\n",
        "            self.labels = os.listdir(os.path.join(root_dir, \"images\", \"test\"))\n",
        "            self.filenames = [\"test/\" + i for i in self.labels]\n",
        "\n",
        "    def __len__(self):\n",
        "        dataset_len = len(self.labels)\n",
        "        return dataset_len\n",
        "\n",
        "    def __getitem__(self, idx):\n",
        "        image = Image.open(os.path.join(self.root_dir, \"images\", self.filenames[idx]))\n",
        "        if not self.transform is None:\n",
        "            image = self.transform(image)\n",
        "        label = self.labels[idx]\n",
        "        return image, label\n",
        "\n",
        "from torchvision import transforms\n",
        "\n",
        "data_transform = transforms.Compose([\n",
        "    transforms.Resize((64,64)),\n",
        "    transforms.ToTensor(),\n",
        "    transforms.Normalize([0.485, 0.456, 0.406],[0.229, 0.224, 0.225])\n",
        "])\n",
        "\n",
        "data_root = os.path.join(root_dir, 'data')\n",
        "miniplaces_train = MiniPlaces(data_root, split='train', transform=data_transform)\n",
        "miniplaces_val = MiniPlaces(\n",
        "    data_root, split='val',\n",
        "    transform=data_transform,\n",
        "    label_dict=miniplaces_train.label_dict)"
      ]
    },
    {
      "cell_type": "code",
      "execution_count": 11,
      "metadata": {
        "execution": {
          "iopub.execute_input": "2023-10-07T02:25:01.850319Z",
          "iopub.status.busy": "2023-10-07T02:25:01.850005Z",
          "iopub.status.idle": "2023-10-07T02:25:01.855105Z",
          "shell.execute_reply": "2023-10-07T02:25:01.854213Z",
          "shell.execute_reply.started": "2023-10-07T02:25:01.850289Z"
        },
        "id": "IALrjg2JS2iU",
        "trusted": true
      },
      "outputs": [],
      "source": [
        "import torch\n",
        "import torch.nn as nn\n",
        "import torch.nn.functional as F"
      ]
    },
    {
      "cell_type": "code",
      "execution_count": null,
      "metadata": {
        "execution": {
          "iopub.execute_input": "2023-10-07T02:25:01.856935Z",
          "iopub.status.busy": "2023-10-07T02:25:01.856181Z",
          "iopub.status.idle": "2023-10-07T02:25:01.866312Z",
          "shell.execute_reply": "2023-10-07T02:25:01.865313Z",
          "shell.execute_reply.started": "2023-10-07T02:25:01.856901Z"
        },
        "id": "HTAJh7JJS2iU",
        "trusted": true
      },
      "outputs": [],
      "source": [
        "class FastMLP(nn.Module):\n",
        "    def __init__(self, input_size, hidden_size, num_classes):\n",
        "        \"\"\"\n",
        "        Initialize an MLP classifier.\n",
        "        Input and output sizes of each layer:\n",
        "          1) fc1: input_size, hidden_size\n",
        "          2) fc2: hidden_size, hidden_size\n",
        "          3) fc3: hidden_size, num_classes\n",
        "\n",
        "        Args:\n",
        "            input_size (int): Size of the input layer.\n",
        "            hidden_size (int): Size of the hidden layer.\n",
        "            num_classes (int): Number of classes in the output layer.\n",
        "        \"\"\"\n",
        "\n",
        "        ################# Your Implementations #################################\n",
        "        # TODO: Define the layers of the MLP\n",
        "        # Hint: The imported modules should give you a clue on which PyTorch functions to use\n",
        "        super().__init__()\n",
        "        self.fc1 = nn.Linear(input_size, hidden_size)\n",
        "        self.fc2 = nn.Linear(hidden_size, hidden_size)\n",
        "        self.fc3 = nn.Linear(hidden_size, num_classes)\n",
        "\n",
        "\n",
        "        ################# End of your Implementations ##########################\n",
        "\n",
        "    def forward(self, x):\n",
        "        \"\"\"\n",
        "        Forward pass of the MLP classifier.\n",
        "        Using ReLU as the activation function after each layer, except for the output layer.\n",
        "        Args:\n",
        "            x (torch.Tensor): Input tensor of shape (batch_size, input_size).\n",
        "\n",
        "        Returns:\n",
        "            torch.Tensor: Output tensor of shape (batch_size, num_classes).\n",
        "        \"\"\"\n",
        "        ################# Your Implementations #################################\n",
        "        # TODO: Implement the forward pass of the MLP classifier\n",
        "\n",
        "        x = F.relu(self.fc1(x))\n",
        "        x = F.relu(self.fc2(x))\n",
        "        x = F.sigmoid(self.fc3(x))\n",
        "\n",
        "\n",
        "        ################# End of your Implementations ##########################\n",
        "        return x\n"
      ]
    },
    {
      "cell_type": "markdown",
      "metadata": {
        "id": "Yv1WHvTPvKxB"
      },
      "source": [
        "Then, define the training and evaluation functions to train and test the MLP classifier (You don't need to modify this part):"
      ]
    },
    {
      "cell_type": "code",
      "execution_count": 39,
      "metadata": {
        "execution": {
          "iopub.execute_input": "2023-10-07T02:25:01.868213Z",
          "iopub.status.busy": "2023-10-07T02:25:01.867684Z",
          "iopub.status.idle": "2023-10-07T02:25:01.886545Z",
          "shell.execute_reply": "2023-10-07T02:25:01.885542Z",
          "shell.execute_reply.started": "2023-10-07T02:25:01.868185Z"
        },
        "id": "Qy917OG_S2iU",
        "trusted": true
      },
      "outputs": [],
      "source": [
        "def train(model, train_loader, val_loader, optimizer, criterion, device, num_epochs):\n",
        "    # Place model on device\n",
        "    model = model.to(device)\n",
        "    best_acc = 0\n",
        "    flag = False\n",
        "    for epoch in range(num_epochs):\n",
        "        model.train()  # Set model to training mode\n",
        "        # Use tqdm to display a progress bar during training\n",
        "        with tqdm(total=len(train_loader), desc=f'Epoch {epoch + 1}/{num_epochs}') as pbar:\n",
        "            for inputs, labels in train_loader:\n",
        "                # Move inputs and labels to device\n",
        "                inputs = inputs.to(device)\n",
        "                labels = labels.to(device)\n",
        "                # Zero out gradients\n",
        "                optimizer.zero_grad()\n",
        "                # Compute the logits and loss\n",
        "                logits = model(inputs)\n",
        "                loss = criterion(logits, labels)\n",
        "                # Backpropagate the loss\n",
        "                loss.backward()\n",
        "                # Update the weights\n",
        "                optimizer.step()\n",
        "                # Update the progress bar\n",
        "                pbar.update(1)\n",
        "                pbar.set_postfix(loss=loss.item())\n",
        "\n",
        "        # Evaluate the model on the validation set\n",
        "        avg_loss, accuracy = evaluate(model, val_loader, criterion, device)\n",
        "        if best_acc > accuracy:\n",
        "            if flag:\n",
        "                print(f'Validation set: Average loss = {avg_loss:.4f}, Accuracy = {accuracy:.4f}')\n",
        "                break\n",
        "            else:\n",
        "                flag = True\n",
        "        else:\n",
        "            best_acc = accuracy\n",
        "            flag = False\n",
        "        print(f'Validation set: Average loss = {avg_loss:.4f}, Accuracy = {accuracy:.4f}')\n",
        "\n",
        "def evaluate(model, test_loader, criterion, device):\n",
        "    \"\"\"\n",
        "    Evaluate the classifier on the test set.\n",
        "\n",
        "    Args:\n",
        "        model: classifier to evaluate.\n",
        "        test_loader (torch.utils.data.DataLoader): Data loader for the test set.\n",
        "        criterion (callable): Loss function to use for evaluation.\n",
        "        device (torch.device): Device to use for evaluation.\n",
        "\n",
        "    Returns:\n",
        "        float: Average loss on the test set.\n",
        "        float: Accuracy on the test set.\n",
        "    \"\"\"\n",
        "    model.eval()  # Set model to evaluation mode\n",
        "\n",
        "    with torch.no_grad():\n",
        "        total_loss = 0.0\n",
        "        num_correct = 0\n",
        "        num_samples = 0\n",
        "\n",
        "        for inputs, labels in test_loader:\n",
        "            # Move inputs and labels to device\n",
        "            inputs = inputs.to(device)\n",
        "            labels = labels.to(device)\n",
        "\n",
        "            # Compute the logits and loss\n",
        "            logits = model(inputs)\n",
        "            loss = criterion(logits, labels)\n",
        "            total_loss += loss.item()\n",
        "\n",
        "            # Compute the accuracy\n",
        "            _, predictions = torch.max(logits, dim=1)\n",
        "            num_correct += (predictions == labels).sum().item()\n",
        "            num_samples += len(inputs)\n",
        "\n",
        "    # Compute the average loss and accuracy\n",
        "    avg_loss = total_loss / len(test_loader)\n",
        "    accuracy = num_correct / num_samples\n",
        "\n",
        "    return avg_loss, accuracy\n",
        "\n",
        "def predict(model, test_dataloader):\n",
        "    \"\"\"\n",
        "    Evaluate the classifier on the test set.\n",
        "\n",
        "    Args:\n",
        "        model: classifier to evaluate.\n",
        "        test_loader (torch.utils.data.DataLoader): Data loader for the test set.\n",
        "        criterion (callable): Loss function to use for evaluation.\n",
        "        device (torch.device): Device to use for evaluation.\n",
        "\n",
        "    Returns:\n",
        "        float: Average loss on the test set.\n",
        "        float: Accuracy on the test set.\n",
        "    \"\"\"\n",
        "    out = []\n",
        "    for i in tqdm(test_dataloader):\n",
        "        pic = i[0].to('cuda')\n",
        "        # lab = torch.argmax((pic))\n",
        "        _, lab = torch.max(model(pic), dim=1)\n",
        "        out.append(lab)\n",
        "\n",
        "    return out\n",
        "\n",
        "data_transform_flatten = transforms.Compose([data_transform, torch.flatten])"
      ]
    },
    {
      "cell_type": "code",
      "execution_count": null,
      "metadata": {
        "execution": {
          "iopub.execute_input": "2023-10-07T02:25:01.888753Z",
          "iopub.status.busy": "2023-10-07T02:25:01.887870Z",
          "iopub.status.idle": "2023-10-07T02:25:02.170334Z",
          "shell.execute_reply": "2023-10-07T02:25:02.169396Z",
          "shell.execute_reply.started": "2023-10-07T02:25:01.888722Z"
        },
        "id": "lrz292JzS2iV",
        "trusted": true
      },
      "outputs": [],
      "source": [
        "model = FastMLP(\n",
        "    input_size=3 * 64 * 64,\n",
        "    hidden_size=1024,\n",
        "    num_classes=len(miniplaces_train.label_dict))\n",
        "optimizer = torch.optim.SGD(\n",
        "    model.parameters(),\n",
        "    lr=0.01,\n",
        "    momentum=0.9)\n",
        "criterion = nn.CrossEntropyLoss()\n",
        "\n",
        "data_root = os.path.join(root_dir, 'data')\n",
        "train_dataset = MiniPlaces(\n",
        "    root_dir=data_root, split='train',\n",
        "    transform=data_transform_flatten)\n",
        "val_dataset = MiniPlaces(\n",
        "    root_dir=data_root, split='val',\n",
        "    transform=data_transform_flatten,\n",
        "    label_dict=train_dataset.label_dict)\n",
        "\n",
        "### !!! DON'T CHANGE NUM_WORKERS FROM 0 !!!\n",
        "### Using the loader will crash the notebook\n",
        "\n",
        "train_loader = torch.utils.data.DataLoader(\n",
        "    train_dataset, batch_size=64, num_workers=0, shuffle=True)\n",
        "val_loader = torch.utils.data.DataLoader(\n",
        "    val_dataset, batch_size=64, num_workers=0, shuffle=False)"
      ]
    },
    {
      "cell_type": "markdown",
      "metadata": {
        "id": "v6rHQjo-vOfk"
      },
      "source": [
        "Train!"
      ]
    },
    {
      "cell_type": "code",
      "execution_count": null,
      "metadata": {
        "colab": {
          "base_uri": "https://localhost:8080/"
        },
        "execution": {
          "iopub.execute_input": "2023-10-07T02:25:02.172229Z",
          "iopub.status.busy": "2023-10-07T02:25:02.171708Z",
          "iopub.status.idle": "2023-10-07T02:27:32.844057Z",
          "shell.execute_reply": "2023-10-07T02:27:32.843133Z",
          "shell.execute_reply.started": "2023-10-07T02:25:02.172198Z"
        },
        "id": "z7Lkar0mS2iV",
        "outputId": "18d3cdb5-383b-465a-8083-d75b5c7ccf61",
        "trusted": true
      },
      "outputs": [
        {
          "name": "stderr",
          "output_type": "stream",
          "text": [
            "Epoch 1/2: 100%|██████████| 1407/1407 [01:34<00:00, 14.90it/s, loss=4.14]\n"
          ]
        },
        {
          "name": "stdout",
          "output_type": "stream",
          "text": [
            "Validation set: Average loss = 4.2862, Accuracy = 0.0778\n"
          ]
        },
        {
          "name": "stderr",
          "output_type": "stream",
          "text": [
            "Epoch 2/2: 100%|██████████| 1407/1407 [01:33<00:00, 14.98it/s, loss=4.26]\n"
          ]
        },
        {
          "name": "stdout",
          "output_type": "stream",
          "text": [
            "Validation set: Average loss = 4.2499, Accuracy = 0.0789\n"
          ]
        }
      ],
      "source": [
        "train(model, train_loader, val_loader, optimizer, criterion, device, num_epochs=2)"
      ]
    },
    {
      "cell_type": "markdown",
      "metadata": {
        "id": "j2kvnzTMvQ9b"
      },
      "source": [
        "Don't worry if your accuracy is low, that's to be expected."
      ]
    },
    {
      "cell_type": "markdown",
      "metadata": {
        "id": "do5obzs5vSf2"
      },
      "source": [
        "## Q3: Convolutional Neural Network (CNN)\n",
        "\n",
        "This question is similar to the last, but you'll be implementing a convolutional neural network instead. You'll need to use convolutional layers, a max pooling layer, and dropout layers."
      ]
    },
    {
      "cell_type": "code",
      "execution_count": null,
      "metadata": {
        "execution": {
          "iopub.execute_input": "2023-10-07T02:27:32.846054Z",
          "iopub.status.busy": "2023-10-07T02:27:32.845706Z",
          "iopub.status.idle": "2023-10-07T02:27:32.858683Z",
          "shell.execute_reply": "2023-10-07T02:27:32.857864Z",
          "shell.execute_reply.started": "2023-10-07T02:27:32.846023Z"
        },
        "id": "LUnmzdS0S2iV",
        "trusted": true
      },
      "outputs": [],
      "source": [
        "class FastConv(nn.Module):\n",
        "    def __init__(\n",
        "        self,\n",
        "        input_channels, conv_hidden_channels, conv_out_channels,\n",
        "        input_size=(64,64),\n",
        "        dropout_rate1=0.25, dropout_rate2=0.5,\n",
        "        fc_out_channels=128, num_classes=100,\n",
        "        kernel_size=3, stride=1, padding=1):\n",
        "        \"\"\"\n",
        "        Args:\n",
        "          input_channels (int): Number of channels in the input image.\n",
        "          conv_hidden_channels (int): Number of channels in the first convolutional layer.\n",
        "          conv_out_channels (int): Number of channels in the second convolutional layer.\n",
        "          input_size (tuple, optional): Height and width of the input image. (default: (64,64))\n",
        "          dropout_rate1, dropout_rate2 (float, optional): Dropout rate for\n",
        "              the first/second dropout layer. (default: 0.25, 0.5)\n",
        "          fc_out_channels (int, optional): Number of neurons in the first fully\n",
        "              connected layer. (default: 128)\n",
        "          num_classes (int, optional): Number of classes in the final output layer. (default: 100)\n",
        "          kernel_size, stride, padding (int, optional): Parameters of convolutional layers.\n",
        "\n",
        "        Initialize a convolutional neural network.\n",
        "        You can use Pytorch's built-in nn.Conv2d function.\n",
        "        Input and output shapes of each layer:\n",
        "        1) conv1: (batch_size, input_channels, H, W) -> (batch_size, conv_hidden_channels, H, W)\n",
        "        2) conv2: (batch_size, conv_hidden_channels, H, W) -> (batch_size, conv_out_channels, H, W)\n",
        "        3) max_pooling: (batch_size, conv_out_channels, H, W)\n",
        "        4) fc1: (batch_size, flatten_size) -> (batch_size, fc_out_channels)\n",
        "        5) fc2: (batch_size, fc_out_channels) -> (batch_size, num_classes)\n",
        "        \"\"\"\n",
        "\n",
        "        super().__init__()\n",
        "\n",
        "        # I've given you 'flatten_size', since I'm not expecting you to have this formula memorized :)\n",
        "        flatten_size = conv_out_channels * ((input_size[0] + 2 * padding - kernel_size) // stride + 1) * ((input_size[1] + 2 * padding - kernel_size) // stride + 1)\n",
        "\n",
        "        ################# Your Implementations #################################\n",
        "        # TODO: Define the layers of the convolutional neural network\n",
        "        # replace \"None\"s with your implementations.\n",
        "        # All you need to do is to pass the input arguments to different constructors\n",
        "\n",
        "        self.conv1 = nn.Conv2d(input_channels, conv_hidden_channels, kernel_size=kernel_size, stride=stride, padding=padding)\n",
        "        self.conv2 = nn.Conv2d(conv_hidden_channels, conv_out_channels, kernel_size=kernel_size, stride=stride, padding=padding)\n",
        "        self.max_pooling = nn.MaxPool2d(kernel_size=kernel_size, stride=stride, padding=padding)\n",
        "        self.dropout1 = nn.Dropout(dropout_rate1)\n",
        "        self.dropout2 = nn.Dropout(dropout_rate2)\n",
        "        self.fc1 = nn.Linear(flatten_size, fc_out_channels)\n",
        "        self.fc2 = nn.Linear(fc_out_channels, num_classes)\n",
        "\n",
        "        ################# End of your Implementations ##########################\n",
        "\n",
        "    def forward(self, x, return_intermediate=False):\n",
        "        \"\"\"\n",
        "        Forward pass of the convolutional neural network.\n",
        "        The input tensor 'x' should pass through the following layers:\n",
        "        1) conv1: (batch_size, input_channels, H, W) -> (batch_size, conv_hidden_channels, H, W)\n",
        "        2) Apply relu.\n",
        "        3) conv2: (batch_size, conv_hidden_channels, H, W) -> (batch_size, conv_out_channels, H, W)\n",
        "        4) max_pooling: Perform max pooling on the output from conv2\n",
        "        5) dropout1: Perform dropout on the output from max_pooling\n",
        "        6) Flatten the output from dropout1\n",
        "        7) fc1: Pass through a fully connected layer\n",
        "        8) dropout2: Perform dropout on the output from fc1\n",
        "        9) Apply relu.\n",
        "        10) fc2: Pass the output from the actiction layer to through a fully connected\n",
        "                layer to produce the final output\n",
        "        \"\"\"\n",
        "        ################# Your Implementations #################################\n",
        "        # TODO: Implement the forward pass of the convolutional neural network\n",
        "\n",
        "        x = F.relu(self.conv1(x))\n",
        "        x = self.conv2(x)\n",
        "        x = self.max_pooling(x)\n",
        "        x = self.dropout1(x)\n",
        "\n",
        "        x = x.flatten(1)\n",
        "        x = self.fc1(x)\n",
        "        x = F.relu(x)\n",
        "        x = self.dropout2(x)\n",
        "\n",
        "        x = self.fc2(x)\n",
        "\n",
        "        # what do you mean by return_intermediate=False?\n",
        "\n",
        "        ################# End of your Implementations ##########################\n",
        "        return x\n"
      ]
    },
    {
      "cell_type": "code",
      "execution_count": null,
      "metadata": {
        "execution": {
          "iopub.execute_input": "2023-10-07T02:27:32.863492Z",
          "iopub.status.busy": "2023-10-07T02:27:32.863259Z",
          "iopub.status.idle": "2023-10-07T02:27:33.660811Z",
          "shell.execute_reply": "2023-10-07T02:27:33.659848Z",
          "shell.execute_reply.started": "2023-10-07T02:27:32.863472Z"
        },
        "id": "U3L6j5hPS2iW",
        "trusted": true
      },
      "outputs": [],
      "source": [
        "conv_train_dataset = MiniPlaces(\n",
        "    root_dir=data_root, split='train',\n",
        "    transform=data_transform)\n",
        "conv_val_dataset = MiniPlaces(\n",
        "    root_dir=data_root, split='val',\n",
        "    transform=data_transform)\n",
        "conv_train_loader = torch.utils.data.DataLoader(\n",
        "    conv_train_dataset, batch_size=64, num_workers=0, shuffle=True)\n",
        "conv_val_loader = torch.utils.data.DataLoader(\n",
        "    conv_val_dataset, batch_size=64, num_workers=0, shuffle=False)\n",
        "\n",
        "model = FastConv(\n",
        "    input_channels=3, conv_hidden_channels=64, conv_out_channels=128,\n",
        "    input_size=(64,64),\n",
        "    dropout_rate1=0.25, dropout_rate2=0.5,\n",
        "    fc_out_channels=128,\n",
        "    kernel_size=3, stride=1, padding=1,\n",
        "    num_classes=len(miniplaces_train.label_dict))\n",
        "optimizer = torch.optim.SGD(model.parameters(), lr=0.01, momentum=0.9)\n",
        "criterion = nn.CrossEntropyLoss()"
      ]
    },
    {
      "cell_type": "markdown",
      "metadata": {
        "id": "F0m77a-xvXv3"
      },
      "source": [
        "Train!"
      ]
    },
    {
      "cell_type": "code",
      "execution_count": null,
      "metadata": {
        "colab": {
          "base_uri": "https://localhost:8080/"
        },
        "execution": {
          "iopub.execute_input": "2023-10-07T02:27:33.662588Z",
          "iopub.status.busy": "2023-10-07T02:27:33.662236Z",
          "iopub.status.idle": "2023-10-07T02:31:35.175404Z",
          "shell.execute_reply": "2023-10-07T02:31:35.174516Z",
          "shell.execute_reply.started": "2023-10-07T02:27:33.662556Z"
        },
        "id": "dFq88hc5S2iW",
        "outputId": "e7aa72bd-ae52-4497-fa5e-9dca4dfeda1f",
        "trusted": true
      },
      "outputs": [
        {
          "name": "stderr",
          "output_type": "stream",
          "text": [
            "Epoch 1/2: 100%|██████████| 1407/1407 [02:42<00:00,  8.67it/s, loss=4.25]\n"
          ]
        },
        {
          "name": "stdout",
          "output_type": "stream",
          "text": [
            "Validation set: Average loss = 3.9567, Accuracy = 0.1033\n"
          ]
        },
        {
          "name": "stderr",
          "output_type": "stream",
          "text": [
            "Epoch 2/2: 100%|██████████| 1407/1407 [02:36<00:00,  8.98it/s, loss=3.72]\n"
          ]
        },
        {
          "name": "stdout",
          "output_type": "stream",
          "text": [
            "Validation set: Average loss = 3.5719, Accuracy = 0.1833\n"
          ]
        }
      ],
      "source": [
        "train(model, conv_train_loader, conv_val_loader, optimizer, criterion, device, num_epochs=2)"
      ]
    },
    {
      "cell_type": "markdown",
      "metadata": {
        "id": "myZY1O24vYp5"
      },
      "source": [
        "I can get ~20% accuracy after two epochs. How about you?"
      ]
    },
    {
      "cell_type": "markdown",
      "metadata": {
        "id": "96dwsv_9vb5j"
      },
      "source": [
        "## Q4: Your own model\n",
        "\n",
        "You will construct your own model using built-in convolutional layers. You can base your model on the provided `FastConv` class, or choose to modify the number of convolutional layers, feature size, learning rate, optimizer, and other parameters to suit your needs. You can also use any data transformations you'd like. You can even base your model off of an already existing architecture. The only restriction is that you can't blindly import an entire model at once; you should be creating every layer using PyTorch. Create your model and train using cells below."
      ]
    },
    {
      "cell_type": "code",
      "execution_count": 13,
      "metadata": {
        "execution": {
          "iopub.execute_input": "2023-10-07T02:31:35.177651Z",
          "iopub.status.busy": "2023-10-07T02:31:35.176994Z",
          "iopub.status.idle": "2023-10-07T02:31:35.192199Z",
          "shell.execute_reply": "2023-10-07T02:31:35.191285Z",
          "shell.execute_reply.started": "2023-10-07T02:31:35.177602Z"
        },
        "id": "2jnrWmTJS2iW",
        "trusted": true
      },
      "outputs": [],
      "source": [
        "import matplotlib.pyplot as plt\n",
        "\n",
        "import torch\n",
        "import torch.nn as nn\n",
        "\n",
        "import torchvision.transforms as v1\n",
        "from torchvision.io import read_image\n"
      ]
    },
    {
      "cell_type": "code",
      "execution_count": 14,
      "metadata": {
        "id": "EhS1pVzSeFcs"
      },
      "outputs": [],
      "source": [
        "import matplotlib.pyplot as plt\n",
        "\n",
        "import torch\n",
        "import torch.nn as nn\n",
        "\n",
        "import torchvision.transforms as v1\n",
        "from torchvision.io import read_image\n",
        "\n",
        "\n",
        "class resBlock(nn.Module):\n",
        "    def __init__(\n",
        "        self,\n",
        "        channels,\n",
        "        input_size=(64,64),\n",
        "        dropout_rate=0.3,\n",
        "        kernel_size=3, stride=1, padding=1):\n",
        "\n",
        "        super().__init__()\n",
        "\n",
        "        self.process = nn.Sequential (\n",
        "            nn.Conv2d(channels, channels, kernel_size=kernel_size, stride=stride, padding=padding),\n",
        "            nn.MaxPool2d(3, stride=1, padding = 1),\n",
        "            nn.Dropout(p=dropout_rate),\n",
        "            nn.Conv2d(channels, channels, kernel_size=kernel_size, padding=padding),\n",
        "            nn.MaxPool2d(3, stride=1, padding = 1)\n",
        "        )\n",
        "\n",
        "\n",
        "    def forward(self, x):\n",
        "        left = self.process(x)\n",
        "        right = x\n",
        "\n",
        "        return (left + right)\n",
        "\n",
        "\n",
        "\n",
        "class SlowConv(nn.Module):\n",
        "    def __init__(\n",
        "        self,\n",
        "        input_channels, conv_hidden_channels, conv_out_channels,\n",
        "        input_size=(64,64),\n",
        "        dropout_rate=0.25,\n",
        "        fc_out_channels=128, fc_hidden_layer = 256, num_classes=100,\n",
        "        kernel_size=3, stride=1, padding=1):\n",
        "\n",
        "      super().__init__()\n",
        "\n",
        "      self.preprocess = nn.Sequential (\n",
        "            nn.Conv2d(input_channels, conv_hidden_channels, kernel_size = 3, stride=stride, padding = padding),\n",
        "            nn.ReLU(inplace=True),\n",
        "            nn.Conv2d(conv_hidden_channels, conv_out_channels, kernel_size = kernel_size, padding = padding),\n",
        "            nn.MaxPool2d(kernel_size=kernel_size, stride=1, padding = 1),\n",
        "            nn.Dropout(p=dropout_rate),\n",
        "        )\n",
        "\n",
        "\n",
        "      self.cnn = nn.Sequential (\n",
        "            resBlock(conv_out_channels, conv_out_channels, stride=stride, dropout_rate=dropout_rate),\n",
        "            resBlock(conv_out_channels, conv_out_channels, stride=stride, dropout_rate=dropout_rate),\n",
        "            resBlock(conv_out_channels, conv_out_channels, stride=stride, dropout_rate=dropout_rate),\n",
        "        )\n",
        "\n",
        "      self.linear = nn.Sequential (\n",
        "\n",
        "            nn.Linear(262144*2, fc_hidden_layer),\n",
        "            nn.ELU(),\n",
        "            nn.Dropout(p=dropout_rate),\n",
        "            nn.Linear(fc_hidden_layer, fc_hidden_layer),\n",
        "            nn.ELU(),\n",
        "            nn.Dropout(p=dropout_rate),\n",
        "            nn.Linear(fc_hidden_layer, int(fc_hidden_layer/2)),\n",
        "            nn.ELU(),\n",
        "            nn.Dropout(p=dropout_rate),\n",
        "            nn.Linear(int(fc_hidden_layer/2), num_classes),\n",
        "        )\n",
        "\n",
        "\n",
        "    def forward(self, x):\n",
        "\n",
        "        x = self.preprocess(x)\n",
        "\n",
        "        x = self.cnn(x)\n",
        "        x = x.flatten(1)\n",
        "        x = self.linear(x)\n",
        "\n",
        "        return x\n"
      ]
    },
    {
      "cell_type": "markdown",
      "metadata": {
        "id": "nRu2l4A5vj7_"
      },
      "source": [
        "Now that you've designed your model and trained it, it's time to test it's accuracy! Use the \"test\" images and the 'predict' function.\n",
        "\n",
        "NOTE: Make sure when constructing your DataLoader, you set 'shuffle' to 'False'. This is so I can match your model's predictions to test images to find how accurate its predictions are."
      ]
    },
    {
      "cell_type": "code",
      "execution_count": 15,
      "metadata": {
        "id": "yME96Ltrv4hN"
      },
      "outputs": [],
      "source": [
        "### Create your DataLoader and use predict to get your model's predictions\n",
        "conv_train_dataset = MiniPlaces(\n",
        "    root_dir=data_root, split='train',\n",
        "    transform=data_transform)\n",
        "conv_val_dataset = MiniPlaces(\n",
        "    root_dir=data_root, split='val',\n",
        "    transform=data_transform)\n",
        "conv_train_loader = torch.utils.data.DataLoader(\n",
        "    conv_train_dataset, batch_size=64, num_workers=0, shuffle=True)\n",
        "conv_val_loader = torch.utils.data.DataLoader(\n",
        "    conv_val_dataset, batch_size=64, num_workers=0, shuffle=False)\n",
        "\n",
        "model = SlowConv(3,64,128,dropout_rate=0.3, fc_hidden_layer=1024)\n",
        "# model = model.apply(initialize_weights)\n",
        "optimizer = torch.optim.SGD(model.parameters(), momentum=0.8, weight_decay=0.001, lr=0.01) \n",
        "#This is changed after 20 epoches. momentum = 0.1, lr = 0.001\n",
        "criterion = nn.CrossEntropyLoss()"
      ]
    },
    {
      "cell_type": "markdown",
      "metadata": {
        "id": "gb1qvJ9JRvE5"
      },
      "source": [
        "Here, I used Kaggle to train the model as I cannot connect to GPU of Google Colab. The trainings are attatched as a seperate python notebook in the email."
      ]
    },
    {
      "cell_type": "code",
      "execution_count": 2,
      "metadata": {
        "colab": {
          "base_uri": "https://localhost:8080/"
        },
        "id": "IUcMF7FgXW4r",
        "outputId": "2a8823b6-5a6f-4229-906f-87d09dcbcfdd"
      },
      "outputs": [
        {
          "name": "stdout",
          "output_type": "stream",
          "text": [
            "Mounted at /content/drive\n"
          ]
        }
      ],
      "source": [
        "from google.colab import drive\n",
        "drive.mount('/content/drive')"
      ]
    },
    {
      "cell_type": "code",
      "execution_count": 20,
      "metadata": {
        "id": "IIch3XtDQ5wO"
      },
      "outputs": [],
      "source": [
        "model = torch.load('/content/drive/MyDrive/Colab Notebooks/model.pth')"
      ]
    },
    {
      "cell_type": "markdown",
      "metadata": {
        "id": "2kgHXoee2fQL"
      },
      "source": [
        "Now that you have a list containing your predictions, you should create a file named \"{your_name}.json\", containing \"{id: predicted_label}\" pairs. A function to do this has been provided, just pass in the output of the predict function from the previous cell. You can find the file under the \"data\" folder by clicking on the folder icon in Colab, or in your working directory output in Kaggle"
      ]
    },
    {
      "cell_type": "code",
      "execution_count": 25,
      "metadata": {
        "id": "_cTTkdp5Rotu"
      },
      "outputs": [],
      "source": [
        "conv_test_dataset = MiniPlaces(\n",
        "    root_dir=data_root, split='test',\n",
        "    transform=data_transform)\n",
        "conv_test_loader = torch.utils.data.DataLoader(\n",
        "    conv_test_dataset, batch_size=64, num_workers=0, shuffle=True)"
      ]
    },
    {
      "cell_type": "code",
      "execution_count": null,
      "metadata": {
        "id": "Cts3nG9QSMNM"
      },
      "outputs": [],
      "source": [
        "output = predict(model, conv_test_loader)"
      ]
    },
    {
      "cell_type": "code",
      "execution_count": 60,
      "metadata": {
        "id": "_fZVNYCSTmHb"
      },
      "outputs": [],
      "source": [
        "from functools import reduce\n",
        "\n",
        "test_preds = reduce(lambda x, y : torch.concat((x,y)), output)\n",
        "test_preds = (test_preds.to('cpu')).tolist()\n",
        "# test_preds"
      ]
    },
    {
      "cell_type": "code",
      "execution_count": 61,
      "metadata": {
        "execution": {
          "iopub.execute_input": "2023-10-07T03:14:31.910276Z",
          "iopub.status.busy": "2023-10-07T03:14:31.909938Z",
          "iopub.status.idle": "2023-10-07T03:14:31.917337Z",
          "shell.execute_reply": "2023-10-07T03:14:31.916417Z",
          "shell.execute_reply.started": "2023-10-07T03:14:31.910247Z"
        },
        "id": "XpAuKsroS2iX",
        "trusted": true
      },
      "outputs": [],
      "source": [
        "import json\n",
        "def preds_to_json(preds):\n",
        "    json_dict = {}\n",
        "    for i, n in enumerate(preds):\n",
        "        json_dict[str('0000000'+str(i+1))[-8:]] = n\n",
        "    with open(os.path.join(root_dir,'Helen_Liu.json'), 'w', encoding='utf-8') as f:\n",
        "        #If you're using a Kaggle notebook, change root_dir to '/kaggle/working/'\n",
        "        json.dump(json_dict, f, ensure_ascii=False, indent=4)\n",
        "\n",
        "# 'test_preds' should be the output of 'predict' from the previous cell\n",
        "preds_to_json(test_preds)"
      ]
    },
    {
      "cell_type": "markdown",
      "metadata": {
        "id": "bYPqu_8qwdc5"
      },
      "source": [
        "### Model Architecture Explanation\n",
        "\n",
        "In the cell below, explain your model's architecture and how you came up with it. Feel free to include as many details as you want, including how you decided on a learning rate or data transformations."
      ]
    },
    {
      "cell_type": "markdown",
      "metadata": {
        "id": "ScrSTsFjhfrz"
      },
      "source": [
        "![Screenshot 2024-04-03 at 22.11.46.png](data:image/png;base64,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)"
      ]
    },
    {
      "cell_type": "markdown",
      "metadata": {
        "id": "5NPL4ZE5wfc3"
      },
      "source": [
        "**Model Design:**\n",
        "\n",
        "I included a ResNet block as it is the best model for image classification. Each ResNet block consists of 2 convolution layer. I added padding to each layer to make sure the input shape matches the output shape.  In simple words, I calculated the error between the prediction and value, used another layer of CNN to train this error, and feed it back to the model to increase the accuracy of the results. Instead of using 34 blocks, I only used the first 3 blocks. This is because there is limited capacity for the GPU, and I want to design a smaller model with better efficiency.\n",
        "\n",
        "\n",
        "\n",
        "**Choice of Parameters & Functions**\n",
        "+ Activation function: I used ELU function (Exponential Linear Units) instead of ReLU function. Since ELU is nonlinear, it avoids the vanishing gradient effect present in ReLU that saturate for strongly positive inputs.\n",
        "+ Regulizer: Added l2_regularizer to prevent overfitting.\n",
        "+ Dynamic lr & momentum: changed the lr from 0.01 to 0.001 and momentum 0.8 to 0.1 after 20 epoches to improve the precision of the model.\n",
        "+ Max Pooling: I used max pooling to extract the most prominent features that activate strongly.\n",
        "\n"
      ]
    },
    {
      "cell_type": "markdown",
      "metadata": {
        "id": "2jFcq5U_wh1R"
      },
      "source": [
        "## You've Finished!!!\n",
        "\n",
        "Great job completing the assessment! The root directory for this notebook should now include the .json with your test predictions. In order to submit this assessment, all you have to do is email this notebook as an .ipynb and the .json to larrylu0302@g.ucla.edu\n",
        "\n",
        "Thanks for taking the time to work through these problems! I look forward to reading through your application. You should expect to hear back a few days after April 5th."
      ]
    }
  ],
  "metadata": {
    "accelerator": "GPU",
    "colab": {
      "collapsed_sections": [
        "J2m2FeWIubFA"
      ],
      "gpuType": "T4",
      "provenance": [],
      "toc_visible": true
    },
    "kernelspec": {
      "display_name": "Python 3",
      "name": "python3"
    },
    "language_info": {
      "codemirror_mode": {
        "name": "ipython",
        "version": 3
      },
      "file_extension": ".py",
      "mimetype": "text/x-python",
      "name": "python",
      "nbconvert_exporter": "python",
      "pygments_lexer": "ipython3",
      "version": "3.10.12"
    }
  },
  "nbformat": 4,
  "nbformat_minor": 0
}
